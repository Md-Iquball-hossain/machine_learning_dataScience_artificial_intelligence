{
 "cells": [
  {
   "cell_type": "code",
   "execution_count": 1,
   "id": "3ff4c4eb-1bd6-4315-a39a-3fdfe5512b11",
   "metadata": {},
   "outputs": [
    {
     "name": "stdout",
     "output_type": "stream",
     "text": [
      "Comparison of Linear Regression with and without PCA:\n",
      "a) Time taken for training and evaluation:\n",
      "   Without PCA: 0.0000 seconds\n",
      "   With PCA: 0.0010 seconds\n",
      "b) Mean Squared Error (MSE) on testing set:\n",
      "   Without PCA: 2900.1936\n",
      "   With PCA: 2864.1049\n"
     ]
    }
   ],
   "source": [
    "import numpy as np\n",
    "import time\n",
    "from sklearn.datasets import load_diabetes\n",
    "from sklearn.model_selection import train_test_split\n",
    "from sklearn.linear_model import LinearRegression\n",
    "from sklearn.metrics import mean_squared_error\n",
    "\n",
    "# Step I: Load the diabetes dataset and split into training and testing sets\n",
    "diabetes = load_diabetes()\n",
    "X_train, X_test, y_train, y_test = train_test_split(diabetes.data, diabetes.target, test_size=0.2, random_state=42)\n",
    "\n",
    "# Step II: Linear regression without PCA\n",
    "start_time = time.time()\n",
    "lr_no_pca = LinearRegression()\n",
    "lr_no_pca.fit(X_train, y_train)\n",
    "train_eval_time_no_pca = time.time() - start_time\n",
    "y_pred_no_pca = lr_no_pca.predict(X_test)\n",
    "mse_no_pca = mean_squared_error(y_test, y_pred_no_pca)\n",
    "\n",
    "# Step III: Apply PCA to reduce dimensionality to 5 features\n",
    "# Subtract mean from each feature\n",
    "X_train_mean = np.mean(X_train, axis=0)\n",
    "X_train_centered = X_train - X_train_mean\n",
    "\n",
    "# Compute covariance matrix\n",
    "cov_matrix = np.cov(X_train_centered, rowvar=False)\n",
    "\n",
    "# Perform eigenvalue decomposition\n",
    "eigenvalues, eigenvectors = np.linalg.eigh(cov_matrix)\n",
    "\n",
    "# Sort eigenvalues and corresponding eigenvectors\n",
    "sorted_indices = np.argsort(eigenvalues)[::-1]\n",
    "top_indices = sorted_indices[:5]\n",
    "top_eigenvectors = eigenvectors[:, top_indices]\n",
    "\n",
    "# Transform training and testing sets\n",
    "X_train_pca = np.dot(X_train_centered, top_eigenvectors)\n",
    "X_test_pca = np.dot(X_test - X_train_mean, top_eigenvectors)\n",
    "\n",
    "# Step IV: Linear regression with PCA\n",
    "start_time = time.time()\n",
    "lr_with_pca = LinearRegression()\n",
    "lr_with_pca.fit(X_train_pca, y_train)\n",
    "train_eval_time_with_pca = time.time() - start_time\n",
    "y_pred_with_pca = lr_with_pca.predict(X_test_pca)\n",
    "mse_with_pca = mean_squared_error(y_test, y_pred_with_pca)\n",
    "\n",
    "# Step V: Comparison\n",
    "print(\"Comparison of Linear Regression with and without PCA:\")\n",
    "print(\"a) Time taken for training and evaluation:\")\n",
    "print(\"   Without PCA: {:.4f} seconds\".format(train_eval_time_no_pca))\n",
    "print(\"   With PCA: {:.4f} seconds\".format(train_eval_time_with_pca))\n",
    "print(\"b) Mean Squared Error (MSE) on testing set:\")\n",
    "print(\"   Without PCA: {:.4f}\".format(mse_no_pca))\n",
    "print(\"   With PCA: {:.4f}\".format(mse_with_pca))\n"
   ]
  },
  {
   "cell_type": "code",
   "execution_count": null,
   "id": "4bc6c6cb-26b2-4a8c-a98d-3f8522aa738a",
   "metadata": {},
   "outputs": [],
   "source": []
  }
 ],
 "metadata": {
  "kernelspec": {
   "display_name": "Python 3 (ipykernel)",
   "language": "python",
   "name": "python3"
  },
  "language_info": {
   "codemirror_mode": {
    "name": "ipython",
    "version": 3
   },
   "file_extension": ".py",
   "mimetype": "text/x-python",
   "name": "python",
   "nbconvert_exporter": "python",
   "pygments_lexer": "ipython3",
   "version": "3.12.1"
  }
 },
 "nbformat": 4,
 "nbformat_minor": 5
}
